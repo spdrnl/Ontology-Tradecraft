{
 "cells": [
  {
   "cell_type": "code",
   "id": "afeabb92",
   "metadata": {
    "ExecuteTime": {
     "end_time": "2025-09-04T18:33:25.653058Z",
     "start_time": "2025-09-04T18:33:25.650311Z"
    }
   },
   "source": [
    "import sys\n",
    "print(sys.version)"
   ],
   "outputs": [
    {
     "name": "stdout",
     "output_type": "stream",
     "text": [
      "3.13.3 (main, Aug 14 2025, 11:53:40) [GCC 14.2.0]\n"
     ]
    }
   ],
   "execution_count": 1
  },
  {
   "cell_type": "code",
   "id": "87611538",
   "metadata": {
    "ExecuteTime": {
     "end_time": "2025-09-04T18:33:27.716016Z",
     "start_time": "2025-09-04T18:33:27.669921Z"
    }
   },
   "source": [
    "import rdflib\n",
    "import SPARQLWrapper\n",
    "import pyshacl\n",
    "\n",
    "print(\"rdflib:\", rdflib.__version__)\n",
    "print(\"SPARQLWrapper:\", SPARQLWrapper.__version__)\n",
    "# pyshacl has __version__ on the package, not module attribute in some versions:\n",
    "try:\n",
    "    import pyshacl\n",
    "    print(\"pyshacl:\", getattr(pyshacl, \"__version__\", \"installed\"))\n",
    "except Exception as e:\n",
    "    print(\"pyshacl import error:\", e)\n"
   ],
   "outputs": [
    {
     "name": "stdout",
     "output_type": "stream",
     "text": [
      "rdflib: 7.1.4\n",
      "SPARQLWrapper: 2.0.0\n",
      "pyshacl: 0.30.1\n"
     ]
    }
   ],
   "execution_count": 2
  },
  {
   "cell_type": "code",
   "id": "d02f7d8e",
   "metadata": {
    "ExecuteTime": {
     "end_time": "2025-09-04T18:33:30.561355Z",
     "start_time": "2025-09-04T18:33:30.554682Z"
    }
   },
   "source": [
    "from pathlib import Path\n",
    "import rdflib\n",
    "\n",
    "ttl_path = Path(__file__).resolve().parents[1] / \"notebooks\" / \"sample.ttl\" if \"__file__\" in globals() else Path.cwd() / \"sample.ttl\"\n",
    "if not ttl_path.exists():\n",
    "    # if launched with a different working dir in Jupyter, also try parent\n",
    "    alt = Path.cwd().parent / \"notebooks\" / \"sample.ttl\"\n",
    "    ttl_path = alt if alt.exists() else ttl_path\n",
    "\n",
    "g = rdflib.Graph()\n",
    "g.parse(str(ttl_path), format=\"turtle\")\n",
    "print(\"Triple count:\", len(g))\n"
   ],
   "outputs": [
    {
     "name": "stdout",
     "output_type": "stream",
     "text": [
      "Triple count: 2\n"
     ]
    }
   ],
   "execution_count": 3
  }
 ],
 "metadata": {
  "kernelspec": {
   "display_name": "base",
   "language": "python",
   "name": "python3"
  },
  "language_info": {
   "codemirror_mode": {
    "name": "ipython",
    "version": 3
   },
   "file_extension": ".py",
   "mimetype": "text/x-python",
   "name": "python",
   "nbconvert_exporter": "python",
   "pygments_lexer": "ipython3",
   "version": "3.9.13"
  }
 },
 "nbformat": 4,
 "nbformat_minor": 5
}
